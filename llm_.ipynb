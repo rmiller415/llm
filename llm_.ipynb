{
 "cells": [
  {
   "cell_type": "code",
   "execution_count": 3,
   "id": "b120826a",
   "metadata": {},
   "outputs": [],
   "source": [
    "import os\n",
    "import re\n",
    "os.chdir('/Users/richardmiller/Documents/GitHub/llm/LLMs-from-scratch-main/')\n"
   ]
  },
  {
   "cell_type": "code",
   "execution_count": 5,
   "id": "10ded437",
   "metadata": {},
   "outputs": [],
   "source": [
    "with open('./ch02/01_main-chapter-code/the-verdict.txt','r',encoding='utf-8') as f:\n",
    "    raw_text = f.read()\n",
    "    \n",
    "split_text = re.split(r'([.,\\/#!$%\\^&\\*;:{}=\\-_`~()]\\s)', raw_text)\n",
    "split_text = [item.strip() for item in split_text]\n",
    "\n",
    "all_words = sorted(set(split_text))\n",
    "num_tokens = len(all_words)\n",
    "\n",
    "vocab = {item:i for i,item in enumerate(all_words)}"
   ]
  },
  {
   "cell_type": "code",
   "execution_count": null,
   "id": "6f22941a",
   "metadata": {},
   "outputs": [],
   "source": [
    "class SimpleTokenizer:\n",
    "    def __init__(self,fpath=None,vocab=None):\n",
    "        self.fpath = fpath\n",
    "        \n",
    "        if self.fpath == None and self.vocab != None:\n",
    "            self.decoder()\n",
    "        elif self.fpath != None and self.vocab == None:\n",
    "            self.encoder()\n",
    "        else:\n",
    "            break\n",
    "            \n",
    "        \n",
    "    def file_parser(self):\n",
    "        \n",
    "        with open(fpath,'r',encoding='utf-8') as f:\n",
    "            self.raw_text = f.read() \n",
    "        f.close()\n",
    "        \n",
    "    def encoder(self):\n",
    "        "
   ]
  }
 ],
 "metadata": {
  "kernelspec": {
   "display_name": "Python 3 (ipykernel)",
   "language": "python",
   "name": "python3"
  },
  "language_info": {
   "codemirror_mode": {
    "name": "ipython",
    "version": 3
   },
   "file_extension": ".py",
   "mimetype": "text/x-python",
   "name": "python",
   "nbconvert_exporter": "python",
   "pygments_lexer": "ipython3",
   "version": "3.10.13"
  }
 },
 "nbformat": 4,
 "nbformat_minor": 5
}
